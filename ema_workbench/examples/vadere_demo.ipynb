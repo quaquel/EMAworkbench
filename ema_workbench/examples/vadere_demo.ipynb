{
 "cells": [
  {
   "cell_type": "markdown",
   "metadata": {},
   "source": [
    "## Vadere EMA connector demo\n",
    "This notebook demonstrates the setup of a Vadere model connection. It uses an example Vadere model, made with Vadere 2.1. Before running the code yourself, please acquire a copy of Vadere from [the official Vadere website](https://www.vadere.org/download/). For more information on the use of the EMA Workbench, please refer to the [official EMA Workbench documentation](https://emaworkbench.readthedocs.io/en/latest/). This demo is based on the code provided on the documentation pages."
   ]
  },
  {
   "cell_type": "markdown",
   "metadata": {},
   "source": [
    "### Step 1: imports\n",
    "The first step is to import the needed modules. This depends on the use and the type of analysis that is intended. The most important one here is the VadereModel from the model connectors. As said, please refer for more information on this to the [official EMA Workbench documentation](https://emaworkbench.readthedocs.io/en/latest/)."
   ]
  },
  {
   "cell_type": "code",
   "execution_count": null,
   "metadata": {},
   "outputs": [],
   "source": [
    "from ema_workbench import (\n",
    "    perform_experiments,\n",
    "    RealParameter,\n",
    "    ema_logging,\n",
    "    MultiprocessingEvaluator,\n",
    "    Samplers,\n",
    "    ScalarOutcome,\n",
    "    IntegerParameter,\n",
    "    RealParameter,\n",
    ")\n",
    "from ema_workbench.connectors.vadere import VadereModel\n",
    "import pandas as pd\n",
    "import numpy as np"
   ]
  },
  {
   "cell_type": "markdown",
   "metadata": {},
   "source": [
    "### Step 2: Setting up the model\n",
    "In this demonstration, we use a simple Vadere model example. The model includes two sources and one target, and spawns a number of pedestrians every second. The model uses the OSM locomotion implementation, and collects the following:\n",
    "\n",
    "- The average evacuation time -> stored in evacuationTime.txt\n",
    "- The average speed of all pedestrians each time step -> stored in speed.csv\n",
    "\n",
    "Note that the EMA connector assumes .txt files for scalar outcomes and .csv files for time series outcomes. Pleasure use these file types, and declare them explicitly in processor_files as shown below."
   ]
  },
  {
   "cell_type": "code",
   "execution_count": 2,
   "metadata": {},
   "outputs": [],
   "source": [
    "# This model saves scalar results to a density.txt and speed.txt file.\n",
    "# Please acquire your own copy of Vadere, and place the vadere-console.jar in your model/scenarios directory\n",
    "# Note that the vadere model files and the console.jar should always be placed in a separate wd as the python runfile\n",
    "model = VadereModel(\n",
    "    \"demoModel\",\n",
    "    vadere_jar=\"vadere-console.jar\",\n",
    "    processor_files=[\"evacuationTime.txt\", \"speed.csv\"],\n",
    "    model_file=\"demo.scenario\",\n",
    "    wd=\"models/vadereModel/scenarios/\",\n",
    ")"
   ]
  },
  {
   "cell_type": "code",
   "execution_count": 3,
   "metadata": {},
   "outputs": [],
   "source": [
    "# set the number of replications to handle model stochasticity\n",
    "model.replications = 5"
   ]
  },
  {
   "cell_type": "markdown",
   "metadata": {},
   "source": [
    "Note that for specifying model uncertainties (and potential levers), the Vadere model class can change any variable present in the model file (Vadere scenario). To realize this, an exact location to the variable of interest in the Vadere scenario file has to be specified. Vadere scenario files follow a nested dictionary structure. Therefore, the exact location of the variable should be passed in a list of argumentes, passed as one string. \n",
    "\n",
    "See the example below, that variates the following:\n",
    "\n",
    "- The number of spawned pedestrians from both sources\n",
    "- The mean of the free flow speed distribution"
   ]
  },
  {
   "cell_type": "code",
   "execution_count": 4,
   "metadata": {},
   "outputs": [],
   "source": [
    "model.uncertainties = [\n",
    "    IntegerParameter(\n",
    "        name=\"spawnNumberA\",\n",
    "        lower_bound=1,\n",
    "        upper_bound=50,\n",
    "        variable_name=['(\"scenario\", \"topography\", \"sources\", 0, \"spawnNumber\")'],\n",
    "    ),\n",
    "    IntegerParameter(\n",
    "        name=\"spawnNumberB\",\n",
    "        lower_bound=1,\n",
    "        upper_bound=50,\n",
    "        variable_name=['(\"scenario\", \"topography\", \"sources\", 1, \"spawnNumber\")'],\n",
    "    ),\n",
    "    RealParameter(\n",
    "        name=\"μFreeFlowSpeed\",\n",
    "        lower_bound=0.7,\n",
    "        upper_bound=1.5,\n",
    "        variable_name=[\n",
    "            '(\"scenario\", \"topography\", \"attributesPedestrian\", \"speedDistributionMean\")'\n",
    "        ],\n",
    "    ),\n",
    "]"
   ]
  },
  {
   "cell_type": "markdown",
   "metadata": {},
   "source": [
    "The model outcomes can be specified by passing the exact name as present in the output file (speed.txt here). The naming convention depends on the used Vadere data processors, but usually follows the name + id of the processor. When in doubt, it is advised to do a demo Vadere run using the Vadere software and to inspect the generated output files. Note that we take the mean of the outcomes here, since we specified multiple replications. Note that we now only focus on scalar outcomes. See the end of this demo for timeseries."
   ]
  },
  {
   "cell_type": "code",
   "execution_count": 5,
   "metadata": {},
   "outputs": [],
   "source": [
    "model.outcomes = [\n",
    "    ScalarOutcome(name=\"evacuationTime\", variable_name=\"meanEvacuationTime-PID8\", function=np.mean)\n",
    "]"
   ]
  },
  {
   "cell_type": "markdown",
   "metadata": {},
   "source": [
    "### Step 3: Performing experiments\n",
    "The last step is to perform experiment with the Vadere model. Both sequential runs as runs in parallel are supported. Note however that a Vadere run can use a lot of RAM, and using all available CPU cores can lead to performance issues in some cases. Additionally, one Vadere run is by default already multithreaded. It is therefore recommended to not use the full set of available processes."
   ]
  },
  {
   "cell_type": "code",
   "execution_count": 6,
   "metadata": {},
   "outputs": [
    {
     "data": {
      "text/plain": [
       "<Logger EMA (DEBUG)>"
      ]
     },
     "execution_count": 6,
     "metadata": {},
     "output_type": "execute_result"
    }
   ],
   "source": [
    "# enable EMA logging\n",
    "ema_logging.log_to_stderr(ema_logging.INFO)"
   ]
  },
  {
   "cell_type": "code",
   "execution_count": 7,
   "metadata": {},
   "outputs": [
    {
     "name": "stderr",
     "output_type": "stream",
     "text": [
      "[MainProcess/INFO] performing 2 scenarios * 1 policies * 1 model(s) = 2 experiments\n",
      "  0%|                                                    | 0/2 [00:00<?, ?it/s][MainProcess/INFO] performing experiments sequentially\n",
      "100%|████████████████████████████████████████████| 2/2 [01:03<00:00, 31.75s/it]\n",
      "[MainProcess/INFO] experiments finished\n"
     ]
    }
   ],
   "source": [
    "# run in sequential 2 experiments\n",
    "results_sequential = perform_experiments(model, scenarios=2, uncertainty_sampling=Samplers.LHS)"
   ]
  },
  {
   "cell_type": "code",
   "execution_count": 8,
   "metadata": {},
   "outputs": [
    {
     "name": "stderr",
     "output_type": "stream",
     "text": [
      "[MainProcess/INFO] pool started with 4 workers\n",
      "[MainProcess/INFO] performing 4 scenarios * 1 policies * 1 model(s) = 4 experiments\n",
      "100%|████████████████████████████████████████████| 4/4 [00:37<00:00,  9.39s/it]\n",
      "[MainProcess/INFO] experiments finished\n",
      "[MainProcess/INFO] terminating pool\n",
      "[ForkPoolWorker-1/INFO] finalizing\n",
      "[ForkPoolWorker-4/INFO] finalizing\n",
      "[ForkPoolWorker-3/INFO] finalizing\n",
      "[ForkPoolWorker-2/INFO] finalizing\n"
     ]
    }
   ],
   "source": [
    "# run 6 experiments in parallel\n",
    "with MultiprocessingEvaluator(model, n_processes=4) as evaluator:\n",
    "    experiments, outcomes = evaluator.perform_experiments(\n",
    "        scenarios=4, uncertainty_sampling=Samplers.LHS\n",
    "    )"
   ]
  },
  {
   "cell_type": "markdown",
   "metadata": {},
   "source": [
    "### Inspect the results\n",
    "we can now look at the results directly. For more extensive exploratory analysis methods, please refer to the [official EMA Workbench documentation](https://emaworkbench.readthedocs.io/en/latest/)."
   ]
  },
  {
   "cell_type": "code",
   "execution_count": 9,
   "metadata": {},
   "outputs": [
    {
     "data": {
      "text/html": [
       "<div>\n",
       "<style scoped>\n",
       "    .dataframe tbody tr th:only-of-type {\n",
       "        vertical-align: middle;\n",
       "    }\n",
       "\n",
       "    .dataframe tbody tr th {\n",
       "        vertical-align: top;\n",
       "    }\n",
       "\n",
       "    .dataframe thead th {\n",
       "        text-align: right;\n",
       "    }\n",
       "</style>\n",
       "<table border=\"1\" class=\"dataframe\">\n",
       "  <thead>\n",
       "    <tr style=\"text-align: right;\">\n",
       "      <th></th>\n",
       "      <th>spawnNumberA</th>\n",
       "      <th>spawnNumberB</th>\n",
       "      <th>μFreeFlowSpeed</th>\n",
       "      <th>scenario</th>\n",
       "      <th>policy</th>\n",
       "      <th>model</th>\n",
       "    </tr>\n",
       "  </thead>\n",
       "  <tbody>\n",
       "    <tr>\n",
       "      <th>0</th>\n",
       "      <td>25.0</td>\n",
       "      <td>33.0</td>\n",
       "      <td>0.838960</td>\n",
       "      <td>2</td>\n",
       "      <td>None</td>\n",
       "      <td>demoModel</td>\n",
       "    </tr>\n",
       "    <tr>\n",
       "      <th>1</th>\n",
       "      <td>46.0</td>\n",
       "      <td>19.0</td>\n",
       "      <td>1.413804</td>\n",
       "      <td>3</td>\n",
       "      <td>None</td>\n",
       "      <td>demoModel</td>\n",
       "    </tr>\n",
       "    <tr>\n",
       "      <th>2</th>\n",
       "      <td>28.0</td>\n",
       "      <td>11.0</td>\n",
       "      <td>0.942684</td>\n",
       "      <td>4</td>\n",
       "      <td>None</td>\n",
       "      <td>demoModel</td>\n",
       "    </tr>\n",
       "    <tr>\n",
       "      <th>3</th>\n",
       "      <td>2.0</td>\n",
       "      <td>50.0</td>\n",
       "      <td>1.111305</td>\n",
       "      <td>5</td>\n",
       "      <td>None</td>\n",
       "      <td>demoModel</td>\n",
       "    </tr>\n",
       "  </tbody>\n",
       "</table>\n",
       "</div>"
      ],
      "text/plain": [
       "   spawnNumberA  spawnNumberB  μFreeFlowSpeed scenario policy      model\n",
       "0          25.0          33.0        0.838960        2   None  demoModel\n",
       "1          46.0          19.0        1.413804        3   None  demoModel\n",
       "2          28.0          11.0        0.942684        4   None  demoModel\n",
       "3           2.0          50.0        1.111305        5   None  demoModel"
      ]
     },
     "execution_count": 9,
     "metadata": {},
     "output_type": "execute_result"
    }
   ],
   "source": [
    "experiments.head()"
   ]
  },
  {
   "cell_type": "code",
   "execution_count": 10,
   "metadata": {},
   "outputs": [
    {
     "data": {
      "text/html": [
       "<div>\n",
       "<style scoped>\n",
       "    .dataframe tbody tr th:only-of-type {\n",
       "        vertical-align: middle;\n",
       "    }\n",
       "\n",
       "    .dataframe tbody tr th {\n",
       "        vertical-align: top;\n",
       "    }\n",
       "\n",
       "    .dataframe thead th {\n",
       "        text-align: right;\n",
       "    }\n",
       "</style>\n",
       "<table border=\"1\" class=\"dataframe\">\n",
       "  <thead>\n",
       "    <tr style=\"text-align: right;\">\n",
       "      <th></th>\n",
       "      <th>evacuationTime</th>\n",
       "    </tr>\n",
       "  </thead>\n",
       "  <tbody>\n",
       "    <tr>\n",
       "      <th>0</th>\n",
       "      <td>14.268966</td>\n",
       "    </tr>\n",
       "    <tr>\n",
       "      <th>1</th>\n",
       "      <td>9.990154</td>\n",
       "    </tr>\n",
       "    <tr>\n",
       "      <th>2</th>\n",
       "      <td>11.673846</td>\n",
       "    </tr>\n",
       "    <tr>\n",
       "      <th>3</th>\n",
       "      <td>11.155385</td>\n",
       "    </tr>\n",
       "  </tbody>\n",
       "</table>\n",
       "</div>"
      ],
      "text/plain": [
       "   evacuationTime\n",
       "0       14.268966\n",
       "1        9.990154\n",
       "2       11.673846\n",
       "3       11.155385"
      ]
     },
     "execution_count": 10,
     "metadata": {},
     "output_type": "execute_result"
    }
   ],
   "source": [
    "pd.DataFrame(outcomes).head()"
   ]
  },
  {
   "cell_type": "markdown",
   "metadata": {},
   "source": [
    "### Using time series data\n",
    "It is additionally possible to specify time series output data. See below for an example on how to do this. \n",
    "\n",
    "Note that this example now uses a different model class, since we do not want to average multiple scalar outcomes but are rather interested in a time series outcome. Hence, the SingleReplicationVadereModel is used. Now, the timeStep and average speeds are collected every step."
   ]
  },
  {
   "cell_type": "code",
   "execution_count": 11,
   "metadata": {},
   "outputs": [],
   "source": [
    "from ema_workbench import TimeSeriesOutcome\n",
    "from ema_workbench.connectors.vadere import SingleReplicationVadereModel"
   ]
  },
  {
   "cell_type": "code",
   "execution_count": 12,
   "metadata": {},
   "outputs": [],
   "source": [
    "# This model saves scalar results to a density.txt and speed.txt file.\n",
    "# Please acquire your own copy of Vadere, and place the vadere-console.jar in your model/scenarios directory\n",
    "# Note that the vadere model files should always be placed in a separate wd as the python runfile\n",
    "model = SingleReplicationVadereModel(\n",
    "    \"demoModel\",\n",
    "    vadere_jar=\"vadere-console.jar\",\n",
    "    processor_files=[\"evacuationTime.txt\", \"speed.csv\"],\n",
    "    model_file=\"demo.scenario\",\n",
    "    wd=\"models/vadereModel/scenarios/\",\n",
    ")"
   ]
  },
  {
   "cell_type": "code",
   "execution_count": 13,
   "metadata": {},
   "outputs": [],
   "source": [
    "model.uncertainties = [\n",
    "    IntegerParameter(\n",
    "        name=\"spawnNumberA\",\n",
    "        lower_bound=1,\n",
    "        upper_bound=50,\n",
    "        variable_name=['(\"scenario\", \"topography\", \"sources\", 0, \"spawnNumber\")'],\n",
    "    ),\n",
    "    IntegerParameter(\n",
    "        name=\"spawnNumberB\",\n",
    "        lower_bound=1,\n",
    "        upper_bound=50,\n",
    "        variable_name=['(\"scenario\", \"topography\", \"sources\", 1, \"spawnNumber\")'],\n",
    "    ),\n",
    "    RealParameter(\n",
    "        name=\"μFreeFlowSpeed\",\n",
    "        lower_bound=0.7,\n",
    "        upper_bound=1.5,\n",
    "        variable_name=[\n",
    "            '(\"scenario\", \"topography\", \"attributesPedestrian\", \"speedDistributionMean\")'\n",
    "        ],\n",
    "    ),\n",
    "]"
   ]
  },
  {
   "cell_type": "code",
   "execution_count": 14,
   "metadata": {},
   "outputs": [],
   "source": [
    "model.outcomes = [TimeSeriesOutcome(name=\"speedTime\", variable_name=\"areaSpeed-PID5\")]"
   ]
  },
  {
   "cell_type": "code",
   "execution_count": 15,
   "metadata": {},
   "outputs": [
    {
     "name": "stderr",
     "output_type": "stream",
     "text": [
      "[MainProcess/INFO] pool started with 4 workers\n",
      "[MainProcess/INFO] performing 4 scenarios * 1 policies * 1 model(s) = 4 experiments\n",
      "100%|████████████████████████████████████████████| 4/4 [00:07<00:00,  1.90s/it]\n",
      "[MainProcess/INFO] experiments finished\n",
      "[MainProcess/INFO] terminating pool\n",
      "[ForkPoolWorker-8/INFO] finalizing\n",
      "[ForkPoolWorker-5/INFO] finalizing\n",
      "[ForkPoolWorker-6/INFO] finalizing\n",
      "[ForkPoolWorker-7/INFO] finalizing\n"
     ]
    }
   ],
   "source": [
    "# run 4 experiments in parallel\n",
    "with MultiprocessingEvaluator(model, n_processes=4) as evaluator:\n",
    "    experiments, outcomes = evaluator.perform_experiments(\n",
    "        scenarios=4, uncertainty_sampling=Samplers.LHS\n",
    "    )"
   ]
  },
  {
   "cell_type": "code",
   "execution_count": 16,
   "metadata": {},
   "outputs": [
    {
     "data": {
      "text/plain": [
       "(<Figure size 432x288 with 1 Axes>,\n",
       " {'speedTime': <AxesSubplot:title={'center':'speedTime'}, xlabel='Time', ylabel='speedTime'>})"
      ]
     },
     "execution_count": 16,
     "metadata": {},
     "output_type": "execute_result"
    },
    {
     "data": {
      "image/png": "[encoded data removed]",
      "text/plain": [
       "<Figure size 432x288 with 1 Axes>"
      ]
     },
     "metadata": {
      "needs_background": "light"
     },
     "output_type": "display_data"
    }
   ],
   "source": [
    "from ema_workbench.analysis.plotting import lines\n",
    "\n",
    "lines(experiments, outcomes, outcomes_to_show=\"speedTime\")"
   ]
  }
 ],
 "metadata": {
  "kernelspec": {
   "display_name": "Python 3 (ipykernel)",
   "language": "python",
   "name": "python3"
  },
  "language_info": {
   "codemirror_mode": {
    "name": "ipython",
    "version": 3
   },
   "file_extension": ".py",
   "mimetype": "text/x-python",
   "name": "python",
   "nbconvert_exporter": "python",
   "pygments_lexer": "ipython3",
   "version": "3.9.16"
  },
  "vscode": {
   "interpreter": {
    "hash": "2491a0d181165e383f6ed7a113ef0be9681b0648ff62905f130438e7b48194fd"
   }
  }
 },
 "nbformat": 4,
 "nbformat_minor": 4
}
